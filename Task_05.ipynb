{
 "cells": [
  {
   "cell_type": "code",
   "execution_count": 1,
   "id": "e0974f6b-65a6-483e-a255-12da4200f069",
   "metadata": {},
   "outputs": [
    {
     "name": "stdout",
     "output_type": "stream",
     "text": [
      "Defaulting to user installation because normal site-packages is not writeable\n",
      "Requirement already satisfied: scapy in c:\\users\\acer\\appdata\\roaming\\python\\python311\\site-packages (2.6.0)\n",
      "Note: you may need to restart the kernel to use updated packages.\n"
     ]
    }
   ],
   "source": [
    "pip install scapy\n"
   ]
  },
  {
   "cell_type": "code",
   "execution_count": 2,
   "id": "40ee0874-4aa8-45ad-a184-9e57f9f4569a",
   "metadata": {},
   "outputs": [
    {
     "name": "stdout",
     "output_type": "stream",
     "text": [
      "Ether / IPv6 / TCP 2402:8100:282d:7b05:69d7:3003:fb98:9eab:64403 > 2606:4700:4400::6812:202f:https FA\n",
      "Ether / IP / TCP 192.168.43.190:63682 > 20.212.88.117:https A / Raw\n",
      "Ether / IPv6 / TCP 2606:4700:4400::6812:202f:https > 2402:8100:282d:7b05:69d7:3003:fb98:9eab:64403 FA\n",
      "Ether / IPv6 / TCP 2402:8100:282d:7b05:69d7:3003:fb98:9eab:64403 > 2606:4700:4400::6812:202f:https A\n",
      "Ether / IP / TCP 20.212.88.117:https > 192.168.43.190:63682 A\n",
      "Ether / IP / TCP 192.168.43.190:64399 > 20.54.232.160:https A / Raw\n",
      "Ether / IP / TCP 192.168.43.190:64399 > 20.54.232.160:https PA / Raw\n",
      "Ether / IP / TCP 192.168.43.190:64399 > 20.54.232.160:https A / Raw\n",
      "Ether / IP / TCP 192.168.43.190:64399 > 20.54.232.160:https PA / Raw\n",
      "Ether / IP / TCP 20.54.232.160:https > 192.168.43.190:64399 A\n"
     ]
    },
    {
     "data": {
      "text/plain": [
       "<Sniffed: TCP:10 UDP:0 ICMP:0 Other:0>"
      ]
     },
     "execution_count": 2,
     "metadata": {},
     "output_type": "execute_result"
    }
   ],
   "source": [
    "from scapy.all import sniff\n",
    "\n",
    "# Start sniffing (run your IDE or terminal as Administrator)\n",
    "sniff(prn=lambda x: x.summary(), count=10)\n"
   ]
  },
  {
   "cell_type": "code",
   "execution_count": 3,
   "id": "b24ca917-0220-4236-93ec-a929a5e17d84",
   "metadata": {},
   "outputs": [],
   "source": [
    "from scapy.all import sniff\n",
    "from scapy.layers.inet import IP, TCP, UDP"
   ]
  },
  {
   "cell_type": "code",
   "execution_count": 4,
   "id": "5f16f088-0ecd-4693-a4a6-6bebe77720a8",
   "metadata": {},
   "outputs": [
    {
     "name": "stdout",
     "output_type": "stream",
     "text": [
      "Starting packet capture...\n",
      "Source IP: 192.168.43.190, Destination IP: 20.54.232.160, Protocol: TCP\n",
      "Payload (if any): b'\\x17\\x03\\x03\\x06g\\x00\\x00\\x00\\x00\\x00\\x00\\x00\\r\\x8b\\x82s\\n&\\r2'...\n",
      "Source IP: 192.168.43.190, Destination IP: 20.54.232.160, Protocol: TCP\n",
      "Payload (if any): b'81HJ%(\\xa9+\\xf5\\x11\\x8f(C\\x84o\\x03\\x89\\x0b\\xea3'...\n",
      "Source IP: 192.168.43.190, Destination IP: 20.54.232.160, Protocol: TCP\n",
      "Payload (if any): b'\\x17\\x03\\x03\\x06\\x1c\\x00\\x00\\x00\\x00\\x00\\x00\\x00\\x0e\\xe9\\xc2\\x8b\\x0c\\xd0\\x87`'...\n",
      "Source IP: 192.168.43.190, Destination IP: 20.54.232.160, Protocol: TCP\n",
      "Payload (if any): b'\"E]\\xe1\\x17\\x98\\xe5\\x19\\x15\\xbffS\\x82\\xb6\\xcd\\x06\\x16\\x86I\\x1e'...\n",
      "Source IP: 20.54.232.160, Destination IP: 192.168.43.190, Protocol: TCP\n",
      "Payload (if any): b''...\n",
      "Source IP: 20.54.232.160, Destination IP: 192.168.43.190, Protocol: TCP\n",
      "Payload (if any): b''...\n",
      "Source IP: 20.54.232.160, Destination IP: 192.168.43.190, Protocol: TCP\n",
      "Payload (if any): b'\\xc9v\\xd7*\\xe8\\x11\\xe6\\x9e\\x9c${\\xd6R\\xefn\\xc5$\\xcf\\xe7\\xc7'...\n",
      "Source IP: 20.54.232.160, Destination IP: 192.168.43.190, Protocol: TCP\n",
      "Payload (if any): b'\\x17\\x03\\x03\\x08\\x88\\x00\\x00\\x00\\x00\\x00\\x00\\x00\\t\\x9b\\xef\\x0e\\x070\\xa5\\xde'...\n",
      "Source IP: 192.168.43.190, Destination IP: 20.54.232.160, Protocol: TCP\n",
      "Payload (if any): b''...\n",
      "Source IP: 192.168.43.190, Destination IP: 20.54.232.160, Protocol: TCP\n",
      "Payload (if any): b''...\n"
     ]
    },
    {
     "data": {
      "text/plain": [
       "<Sniffed: TCP:10 UDP:0 ICMP:0 Other:0>"
      ]
     },
     "execution_count": 4,
     "metadata": {},
     "output_type": "execute_result"
    }
   ],
   "source": [
    "# Function to process and display packet details\n",
    "def packet_callback(packet):\n",
    "    # Check if the packet has an IP layer\n",
    "    if IP in packet:\n",
    "        ip_src = packet[IP].src  # Source IP\n",
    "        ip_dst = packet[IP].dst  # Destination IP\n",
    "        protocol = packet[IP].proto  # Protocol (e.g., TCP, UDP)\n",
    "\n",
    "        # Initialize a protocol name variable\n",
    "        protocol_name = \"\"\n",
    "        \n",
    "        # Identify protocol type\n",
    "        if packet.haslayer(TCP):\n",
    "            protocol_name = \"TCP\"\n",
    "            payload = bytes(packet[TCP].payload)  # TCP payload data\n",
    "        elif packet.haslayer(UDP):\n",
    "            protocol_name = \"UDP\"\n",
    "            payload = bytes(packet[UDP].payload)  # UDP payload data\n",
    "        else:\n",
    "            payload = b\"\"\n",
    "\n",
    "        # Display packet information\n",
    "        print(f\"Source IP: {ip_src}, Destination IP: {ip_dst}, Protocol: {protocol_name}\")\n",
    "        print(f\"Payload (if any): {payload[:20]}...\")  # Display first 20 bytes of payload (optional)\n",
    "\n",
    "# Start sniffing packets on the default network interface\n",
    "print(\"Starting packet capture...\")\n",
    "sniff(filter=\"ip\", prn=packet_callback, count=10)  # Sniff 10 packets"
   ]
  },
  {
   "cell_type": "code",
   "execution_count": null,
   "id": "0ff379b8-812e-4e7b-ad55-a8525b3b3667",
   "metadata": {},
   "outputs": [],
   "source": []
  }
 ],
 "metadata": {
  "kernelspec": {
   "display_name": "Python 3 (ipykernel)",
   "language": "python",
   "name": "python3"
  },
  "language_info": {
   "codemirror_mode": {
    "name": "ipython",
    "version": 3
   },
   "file_extension": ".py",
   "mimetype": "text/x-python",
   "name": "python",
   "nbconvert_exporter": "python",
   "pygments_lexer": "ipython3",
   "version": "3.11.9"
  }
 },
 "nbformat": 4,
 "nbformat_minor": 5
}
